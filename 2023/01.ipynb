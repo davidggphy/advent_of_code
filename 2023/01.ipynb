{
 "cells": [
  {
   "cell_type": "code",
   "execution_count": 1,
   "metadata": {},
   "outputs": [
    {
     "name": "stdout",
     "output_type": "stream",
     "text": [
      "142\n",
      "55090\n"
     ]
    }
   ],
   "source": [
    "def parse_input(fpath):\n",
    "    with open(fpath) as f:\n",
    "        return f.readlines()\n",
    "\n",
    "\n",
    "def parse_line(line):\n",
    "    # get first and last digits\n",
    "    first = None\n",
    "    for c in line:\n",
    "        if c.isdigit():\n",
    "            d = c\n",
    "            if first is None:\n",
    "                first = d\n",
    "    last = d\n",
    "    # cocat digits and return as int\n",
    "    return int(first + last)\n",
    "\n",
    "\n",
    "def get_total(fpath):\n",
    "    lines = parse_input(fpath)\n",
    "    total = 0\n",
    "    for line in lines:\n",
    "        total += parse_line(line)\n",
    "    return total\n",
    "\n",
    "\n",
    "fpath = \"01_input_small.txt\"\n",
    "print(get_total(fpath))\n",
    "\n",
    "fpath = \"01_input.txt\"\n",
    "print(get_total(fpath))"
   ]
  },
  {
   "cell_type": "markdown",
   "metadata": {},
   "source": [
    "## Second part"
   ]
  },
  {
   "cell_type": "code",
   "execution_count": 2,
   "metadata": {},
   "outputs": [
    {
     "name": "stdout",
     "output_type": "stream",
     "text": [
      "281\n",
      "54845\n"
     ]
    }
   ],
   "source": [
    "text2int = {\n",
    "    \"one\": \"1\",\n",
    "    \"two\": \"2\",\n",
    "    \"three\": \"3\",\n",
    "    \"four\": \"4\",\n",
    "    \"five\": \"5\",\n",
    "    \"six\": \"6\",\n",
    "    \"seven\": \"7\",\n",
    "    \"eight\": \"8\",\n",
    "    \"nine\": \"9\",\n",
    "}\n",
    "\n",
    "nletters2spellings = {}\n",
    "for text in text2int.keys():\n",
    "    nletters2spellings[len(text)] = nletters2spellings.get(len(text), set()) | {text}\n",
    "\n",
    "\n",
    "def is_spelled_digit(text, idx, text2int, nletters2spellings) -> None | str:\n",
    "    for nletters, spellings in nletters2spellings.items():\n",
    "        if text[idx : idx + nletters] in spellings:\n",
    "            return text2int[text[idx : idx + nletters]]\n",
    "    return None\n",
    "\n",
    "\n",
    "def parse_line_extended(line):\n",
    "    # get first and last digits\n",
    "    first = None\n",
    "    for i, c in enumerate(line):\n",
    "        if c.isdigit():\n",
    "            d = c\n",
    "        else:\n",
    "            possible_digit = is_spelled_digit(line, i, text2int, nletters2spellings)\n",
    "            if possible_digit is not None:\n",
    "                d = possible_digit\n",
    "            else:\n",
    "                continue\n",
    "        if first is None:\n",
    "            first = d\n",
    "    last = d\n",
    "    # cocat digits and return as int\n",
    "    return int(first + last)\n",
    "\n",
    "\n",
    "def get_total_extended(fpath):\n",
    "    lines = parse_input(fpath)\n",
    "    total = 0\n",
    "    for line in lines:\n",
    "        total += parse_line_extended(line)\n",
    "    return total\n",
    "\n",
    "\n",
    "fpath = \"01_input_small_b.txt\"\n",
    "print(get_total_extended(fpath))\n",
    "\n",
    "fpath = \"01_input.txt\"\n",
    "print(get_total_extended(fpath))"
   ]
  }
 ],
 "metadata": {
  "kernelspec": {
   "display_name": "base",
   "language": "python",
   "name": "python3"
  },
  "language_info": {
   "codemirror_mode": {
    "name": "ipython",
    "version": 3
   },
   "file_extension": ".py",
   "mimetype": "text/x-python",
   "name": "python",
   "nbconvert_exporter": "python",
   "pygments_lexer": "ipython3",
   "version": "3.12.3"
  }
 },
 "nbformat": 4,
 "nbformat_minor": 2
}
