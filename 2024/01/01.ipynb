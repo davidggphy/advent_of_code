{
 "cells": [
  {
   "cell_type": "code",
   "execution_count": 22,
   "metadata": {},
   "outputs": [
    {
     "name": "stdout",
     "output_type": "stream",
     "text": [
      "765748\n"
     ]
    }
   ],
   "source": [
    "fname = \"input.txt\"\n",
    "import pandas as pd\n",
    "import numpy as np\n",
    "\n",
    "df = pd.read_csv(fname, sep=\" \", header=None)\n",
    "ser1 = df.iloc[:,0].sort_values(ascending=True).reset_index(drop=True)\n",
    "ser2 = df.iloc[:, -1].sort_values(ascending=True).reset_index(drop=True)\n",
    "\n",
    "df = pd.concat([ser1, ser2], axis=1)\n",
    "distance = np.abs(ser1 - ser2)\n",
    "total_distance = distance.sum()\n",
    "\n",
    "print(total_distance)"
   ]
  },
  {
   "cell_type": "markdown",
   "metadata": {},
   "source": [
    "# part2"
   ]
  },
  {
   "cell_type": "code",
   "execution_count": 40,
   "metadata": {},
   "outputs": [
    {
     "data": {
      "text/plain": [
       "27732508"
      ]
     },
     "execution_count": 40,
     "metadata": {},
     "output_type": "execute_result"
    }
   ],
   "source": [
    "df1 = ser1.value_counts().to_frame().reset_index().rename(columns={0:\"value\"})\n",
    "df2 = ser2.value_counts().to_frame().reset_index().rename(columns={3:\"value\"})\n",
    "\n",
    "df_merge = df1.merge(df2, how=\"inner\", left_on=\"value\", right_on=\"value\")\n",
    "df_merge[\"score\"] = df_merge.agg(\"prod\", axis=1)\n",
    "df_merge[\"score\"].sum()"
   ]
  }
 ],
 "metadata": {
  "kernelspec": {
   "display_name": "base",
   "language": "python",
   "name": "python3"
  },
  "language_info": {
   "codemirror_mode": {
    "name": "ipython",
    "version": 3
   },
   "file_extension": ".py",
   "mimetype": "text/x-python",
   "name": "python",
   "nbconvert_exporter": "python",
   "pygments_lexer": "ipython3",
   "version": "3.12.3"
  }
 },
 "nbformat": 4,
 "nbformat_minor": 2
}
