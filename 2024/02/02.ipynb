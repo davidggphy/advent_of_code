{
 "cells": [
  {
   "cell_type": "code",
   "execution_count": 1,
   "metadata": {},
   "outputs": [
    {
     "name": "stdout",
     "output_type": "stream",
     "text": [
      "486\n"
     ]
    }
   ],
   "source": [
    "fpath = \"input.txt\"\n",
    "\n",
    "def parse_line(line):\n",
    "    return [int(x) for x in line.split()]\n",
    "\n",
    "def check_safety(numbers):\n",
    "    if numbers[0] < numbers[1]:\n",
    "        is_increasing = True\n",
    "    elif numbers[0] > numbers[1]:\n",
    "        is_increasing = False\n",
    "    else:\n",
    "        return False\n",
    "    \n",
    "    iterable = iter(numbers) if is_increasing else reversed(numbers)\n",
    "    numbers_ = list(iterable)\n",
    "    for i in range(len(numbers_)-1):\n",
    "        delta = numbers_[i+1] - numbers_[i]\n",
    "        if not (1 <= delta <= 3):\n",
    "            return False\n",
    "    return True\n",
    "\n",
    "\n",
    "n_safe = 0\n",
    "with open(fpath) as f:\n",
    "    for line in f:\n",
    "        if check_safety(parse_line(line)):\n",
    "            n_safe += 1\n",
    "\n",
    "print(n_safe)"
   ]
  },
  {
   "cell_type": "markdown",
   "metadata": {},
   "source": [
    "## part 2"
   ]
  },
  {
   "cell_type": "code",
   "execution_count": 3,
   "metadata": {},
   "outputs": [
    {
     "name": "stdout",
     "output_type": "stream",
     "text": [
      "540\n"
     ]
    }
   ],
   "source": [
    "def check_safety_tolerant_brute_force(numbers):\n",
    "    if check_safety(numbers):\n",
    "        return True\n",
    "    for i in range(len(numbers)):\n",
    "        numbers_corr = numbers.copy()\n",
    "        numbers_corr.pop(i)\n",
    "        if check_safety(numbers_corr):\n",
    "            return True\n",
    "    return False\n",
    "\n",
    "n_safe = 0\n",
    "with open(fpath) as f:\n",
    "    for line in f:\n",
    "        numbers = parse_line(line)\n",
    "        safe_brute = check_safety_tolerant_brute_force(numbers)\n",
    "        if safe_brute:\n",
    "            n_safe += 1\n",
    "\n",
    "\n",
    "print(n_safe)"
   ]
  },
  {
   "cell_type": "code",
   "execution_count": 4,
   "metadata": {},
   "outputs": [
    {
     "name": "stdout",
     "output_type": "stream",
     "text": [
      "540\n"
     ]
    }
   ],
   "source": [
    "fpath = \"input.txt\"\n",
    "\n",
    "def return_bad_idx(numbers):\n",
    "    is_increasing = None\n",
    "    for i in range(len(numbers)-1):\n",
    "        current = numbers[i]\n",
    "        nextn = numbers[i+1]\n",
    "        if nextn > current:\n",
    "            if is_increasing is False:\n",
    "                return i\n",
    "            is_increasing = True\n",
    "        elif nextn < current:\n",
    "            if is_increasing is True:\n",
    "                return i\n",
    "            is_increasing = False\n",
    "        else:\n",
    "            return i\n",
    "        delta = abs(nextn - current)\n",
    "        if not (1 <= delta <= 3):\n",
    "            return i\n",
    "        \n",
    "    return None\n",
    "\n",
    "\n",
    "def return_bad_idx_tolerant(numbers):\n",
    "    bad_idx = return_bad_idx(numbers)\n",
    "    if bad_idx is None:\n",
    "        return None\n",
    "    else:\n",
    "        if bad_idx > 0:\n",
    "            numbers_without_bad = numbers[:bad_idx-1] + numbers[bad_idx:]\n",
    "            bad_idx_first = return_bad_idx(numbers_without_bad)\n",
    "            if bad_idx_first is None:\n",
    "                return None\n",
    "            # we have to adjust the index to the original list\n",
    "            bad_idx_first = bad_idx_first if bad_idx_first < bad_idx else bad_idx_first + 1\n",
    "        else:\n",
    "            bad_idx_first = None\n",
    "        \n",
    "        numbers_without_bad = numbers[:bad_idx] + numbers[bad_idx+1:]\n",
    "        bad_idx_second = return_bad_idx(numbers_without_bad)\n",
    "        if bad_idx_second is None:\n",
    "            return None\n",
    "        # we have to adjust the index to the original list\n",
    "        bad_idx_second = bad_idx_second if bad_idx_second < bad_idx else bad_idx_second + 1\n",
    "        if bad_idx + 1 < len(numbers):\n",
    "            numbers_without_bad_plus = numbers[:bad_idx+1] + numbers[bad_idx+2:]\n",
    "            bad_idx_3 = return_bad_idx(numbers_without_bad_plus)\n",
    "            if bad_idx_3 is None:\n",
    "                return None\n",
    "            # we have to adjust the index to the original list\n",
    "            bad_idx_3 = bad_idx_3 if bad_idx_3 < bad_idx else bad_idx_3 + 1\n",
    "        else:\n",
    "            bad_idx_3 = None\n",
    "        \n",
    "        return (bad_idx, bad_idx_first , bad_idx_second, bad_idx_3)\n",
    "        \n",
    "\n",
    "\n",
    "\n",
    "def is_safe(numbers):\n",
    "    bad_idx = return_bad_idx(numbers)\n",
    "    return bad_idx is None\n",
    "\n",
    "\n",
    "n_safe = 0\n",
    "with open(fpath) as f:\n",
    "    for line in f:\n",
    "        bad_idx = return_bad_idx_tolerant(parse_line(line))\n",
    "        if bad_idx is None:\n",
    "            n_safe += 1\n",
    "        # else:\n",
    "        #     print(f\"Bad index: {bad_idx} for {line}\")\n",
    "            \n",
    "\n",
    "print(n_safe)"
   ]
  },
  {
   "cell_type": "code",
   "execution_count": 5,
   "metadata": {},
   "outputs": [],
   "source": [
    "# tests\n",
    "test_info = [\n",
    "    (\"7 6 4 2 1\", True),\n",
    "    (\"1 2 7 8 9\", False),\n",
    "    (\"9 7 6 2 1\", False),\n",
    "    (\"1 3 2 4 5\", True),\n",
    "    (\"8 6 4 4 1\", True),\n",
    "    (\"1 3 6 7 9\", True)\n",
    "]\n",
    "\n",
    "for line, expected in test_info:\n",
    "    numbers = parse_line(line)\n",
    "    try:\n",
    "        #assert check_safety(numbers) == expected\n",
    "        is_safe_comp = return_bad_idx_tolerant(numbers) is None\n",
    "        assert is_safe_comp == expected\n",
    "    except AssertionError:\n",
    "        print(f\"Test NOT passed for {line}\")\n"
   ]
  }
 ],
 "metadata": {
  "kernelspec": {
   "display_name": "base",
   "language": "python",
   "name": "python3"
  },
  "language_info": {
   "codemirror_mode": {
    "name": "ipython",
    "version": 3
   },
   "file_extension": ".py",
   "mimetype": "text/x-python",
   "name": "python",
   "nbconvert_exporter": "python",
   "pygments_lexer": "ipython3",
   "version": "3.12.3"
  }
 },
 "nbformat": 4,
 "nbformat_minor": 2
}
