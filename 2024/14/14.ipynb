{
 "cells": [
  {
   "cell_type": "code",
   "execution_count": 1,
   "metadata": {},
   "outputs": [],
   "source": [
    "import numpy as np\n",
    "from IPython.display import HTML, display\n",
    "\n",
    "# periodic boundary conditions\n",
    "\n",
    "\n",
    "def parse_input(input_str):\n",
    "    particles = []\n",
    "    for line in input_str.split(\"\\n\"):\n",
    "        line = line.strip()\n",
    "        if not line:\n",
    "            continue\n",
    "\n",
    "        p, v = line.split(\" \")\n",
    "        p = [int(x) for x in p[2:].split(\",\")]\n",
    "        v = [int(x) for x in v[2:].split(\",\")]\n",
    "        particles.append((p, v))\n",
    "    return particles\n",
    "\n",
    "\n",
    "def to_array(particles, size):\n",
    "    grid = np.zeros(size, dtype=int)\n",
    "    for p, _ in particles:\n",
    "        grid[p[0]][p[1]] += 1\n",
    "    return grid\n",
    "\n",
    "\n",
    "def plot_particles(particles, size):\n",
    "    grid = to_array(particles, size)\n",
    "    # return numpy array\n",
    "    # display as html table, in red background when there is a particle\n",
    "    html = \"<table>\"\n",
    "    for row in grid.T:\n",
    "        html += \"<tr>\"\n",
    "        for cell in row:\n",
    "            if cell:\n",
    "                html += f\"<td style='background-color:red'>{cell}</td>\"\n",
    "            else:\n",
    "                # cell with a .\n",
    "                html += \"<td>.</td>\"\n",
    "        html += \"</tr>\"\n",
    "    html += \"</table>\"\n",
    "    display(HTML(html))\n"
   ]
  },
  {
   "cell_type": "code",
   "execution_count": 2,
   "metadata": {},
   "outputs": [],
   "source": [
    "def move_point(\n",
    "    start: tuple[int, int], velocity: tuple[int, int], steps: int, size: tuple[int, int]\n",
    ") -> tuple[int, int]:\n",
    "    end = (start[0] + steps * velocity[0], start[1] + steps * velocity[1])\n",
    "    # periodic boundary conditions\n",
    "    end = (end[0] % size[0], end[1] % size[1])\n",
    "    return end\n",
    "\n",
    "\n",
    "def move_particles(particles, steps, size):\n",
    "    new_particles = []\n",
    "    for p, v in particles:\n",
    "        new_particles.append((move_point(p, v, steps, size), v))\n",
    "    return new_particles\n",
    "\n",
    "\n",
    "def count_particles(particles, size):\n",
    "    h_mid = size[0] // 2\n",
    "    v_mid = size[1] // 2\n",
    "    # ul\n",
    "    ul, ur, dl, dr = 0, 0, 0, 0\n",
    "    for p, _ in particles:\n",
    "        if p[0] < h_mid and p[1] < v_mid:\n",
    "            ul += 1\n",
    "        elif p[0] > h_mid and p[1] < v_mid:\n",
    "            ur += 1\n",
    "        elif p[0] < h_mid and p[1] > v_mid:\n",
    "            dl += 1\n",
    "        elif p[0] > h_mid and p[1] > v_mid:\n",
    "            dr += 1\n",
    "    print(ul, ur, dl, dr)\n",
    "    return ul * ur * dl * dr\n",
    "\n",
    "\n",
    "def simulate_and_count(input_str, size, steps=100, plot=False):\n",
    "    particles = parse_input(input_str)\n",
    "    if plot:\n",
    "        print(\"Initial state\")\n",
    "        plot_particles(particles, size)\n",
    "    particles_updated = move_particles(particles, steps, size)\n",
    "    if plot:\n",
    "        print(f\"After {steps} steps\")\n",
    "        plot_particles(particles_updated, size)\n",
    "    return count_particles(particles_updated, size)"
   ]
  },
  {
   "cell_type": "code",
   "execution_count": 3,
   "metadata": {},
   "outputs": [
    {
     "name": "stdout",
     "output_type": "stream",
     "text": [
      "Initial state\n"
     ]
    },
    {
     "data": {
      "text/html": [
       "<table><tr><td style='background-color:red'>1</td><td>.</td><td style='background-color:red'>1</td><td style='background-color:red'>2</td><td>.</td><td>.</td><td>.</td><td>.</td><td>.</td><td>.</td><td>.</td></tr><tr><td>.</td><td>.</td><td>.</td><td>.</td><td>.</td><td>.</td><td>.</td><td>.</td><td>.</td><td>.</td><td>.</td></tr><tr><td>.</td><td>.</td><td>.</td><td>.</td><td>.</td><td>.</td><td>.</td><td>.</td><td>.</td><td>.</td><td>.</td></tr><tr><td>.</td><td>.</td><td>.</td><td>.</td><td>.</td><td>.</td><td style='background-color:red'>1</td><td style='background-color:red'>1</td><td>.</td><td style='background-color:red'>1</td><td style='background-color:red'>1</td></tr><tr><td style='background-color:red'>1</td><td>.</td><td style='background-color:red'>1</td><td>.</td><td>.</td><td>.</td><td>.</td><td>.</td><td>.</td><td>.</td><td>.</td></tr><tr><td>.</td><td>.</td><td>.</td><td>.</td><td>.</td><td>.</td><td>.</td><td>.</td><td>.</td><td style='background-color:red'>1</td><td>.</td></tr><tr><td>.</td><td>.</td><td>.</td><td>.</td><td>.</td><td>.</td><td>.</td><td style='background-color:red'>1</td><td>.</td><td>.</td><td>.</td></tr></table>"
      ],
      "text/plain": [
       "<IPython.core.display.HTML object>"
      ]
     },
     "metadata": {},
     "output_type": "display_data"
    },
    {
     "name": "stdout",
     "output_type": "stream",
     "text": [
      "After 100 steps\n"
     ]
    },
    {
     "data": {
      "text/html": [
       "<table><tr><td>.</td><td>.</td><td>.</td><td>.</td><td>.</td><td>.</td><td style='background-color:red'>2</td><td>.</td><td>.</td><td style='background-color:red'>1</td><td>.</td></tr><tr><td>.</td><td>.</td><td>.</td><td>.</td><td>.</td><td>.</td><td>.</td><td>.</td><td>.</td><td>.</td><td>.</td></tr><tr><td style='background-color:red'>1</td><td>.</td><td>.</td><td>.</td><td>.</td><td>.</td><td>.</td><td>.</td><td>.</td><td>.</td><td>.</td></tr><tr><td>.</td><td style='background-color:red'>1</td><td style='background-color:red'>1</td><td>.</td><td>.</td><td>.</td><td>.</td><td>.</td><td>.</td><td>.</td><td>.</td></tr><tr><td>.</td><td>.</td><td>.</td><td>.</td><td>.</td><td style='background-color:red'>1</td><td>.</td><td>.</td><td>.</td><td>.</td><td>.</td></tr><tr><td>.</td><td>.</td><td>.</td><td style='background-color:red'>1</td><td style='background-color:red'>2</td><td>.</td><td>.</td><td>.</td><td>.</td><td>.</td><td>.</td></tr><tr><td>.</td><td style='background-color:red'>1</td><td>.</td><td>.</td><td>.</td><td>.</td><td style='background-color:red'>1</td><td>.</td><td>.</td><td>.</td><td>.</td></tr></table>"
      ],
      "text/plain": [
       "<IPython.core.display.HTML object>"
      ]
     },
     "metadata": {},
     "output_type": "display_data"
    },
    {
     "name": "stdout",
     "output_type": "stream",
     "text": [
      "1 3 4 1\n"
     ]
    },
    {
     "data": {
      "text/plain": [
       "12"
      ]
     },
     "execution_count": 3,
     "metadata": {},
     "output_type": "execute_result"
    }
   ],
   "source": [
    "input_small = \"\"\"p=0,4 v=3,-3\n",
    "p=6,3 v=-1,-3\n",
    "p=10,3 v=-1,2\n",
    "p=2,0 v=2,-1\n",
    "p=0,0 v=1,3\n",
    "p=3,0 v=-2,-2\n",
    "p=7,6 v=-1,-3\n",
    "p=3,0 v=-1,-2\n",
    "p=9,3 v=2,3\n",
    "p=7,3 v=-1,2\n",
    "p=2,4 v=2,-3\n",
    "p=9,5 v=-3,-3\"\"\"\n",
    "with open(\"input.txt\") as f:\n",
    "    input_large = f.read()\n",
    "\n",
    "small_size = (11, 7)\n",
    "large_size = (101, 103)\n",
    "\n",
    "simulate_and_count(input_small, small_size, plot=True)"
   ]
  },
  {
   "cell_type": "code",
   "execution_count": 4,
   "metadata": {},
   "outputs": [
    {
     "name": "stdout",
     "output_type": "stream",
     "text": [
      "126 135 115 111\n"
     ]
    },
    {
     "data": {
      "text/plain": [
       "217132650"
      ]
     },
     "execution_count": 4,
     "metadata": {},
     "output_type": "execute_result"
    }
   ],
   "source": [
    "simulate_and_count(input_large, large_size, plot=False)"
   ]
  },
  {
   "cell_type": "markdown",
   "metadata": {},
   "source": [
    "## Second part"
   ]
  },
  {
   "cell_type": "code",
   "execution_count": 17,
   "metadata": {},
   "outputs": [
    {
     "data": {
      "image/png": "[encoded data removed]",
      "text/plain": [
       "<Figure size 640x480 with 1 Axes>"
      ]
     },
     "metadata": {},
     "output_type": "display_data"
    },
    {
     "name": "stdout",
     "output_type": "stream",
     "text": [
      "Offset x: 52, offset y: 27\n"
     ]
    }
   ],
   "source": [
    "from copy import deepcopy\n",
    "\n",
    "import matplotlib.pyplot as plt\n",
    "from scipy.stats import entropy\n",
    "\n",
    "\n",
    "def simulate(particles, size, steps=100):\n",
    "    entropies_x = []\n",
    "    entropies_y = []\n",
    "    step_list = []\n",
    "    particles = deepcopy(particles)\n",
    "    for step in range(steps):\n",
    "        # entropy of the distributin of values of x and y\n",
    "        x_values = [p[0][0] for p in particles]\n",
    "        y_values = [p[0][1] for p in particles]\n",
    "        # entropy as a mesuare of disorder (low entropy means high order ~ pattern)\n",
    "        frequency_x = np.bincount(x_values)\n",
    "        entropy_x = entropy(frequency_x)\n",
    "        frequency_y = np.bincount(y_values)\n",
    "        entropy_y = entropy(frequency_y)\n",
    "        entropies_x.append(entropy_x)\n",
    "        entropies_y.append(entropy_y)\n",
    "        step_list.append(step)\n",
    "        particles = move_particles(particles, 1, size)\n",
    "\n",
    "    return entropies_x, entropies_y, step_list\n",
    "\n",
    "\n",
    "particles = parse_input(input_large)\n",
    "max_period = max(large_size)\n",
    "# we simulate for 2 times the period, to see that there is indeed periodicity\n",
    "entropies_x, entropies_y, steps_list = simulate(\n",
    "    particles, large_size, steps=2 * max_period\n",
    ")\n",
    "plt.scatter(steps_list, entropies_x, label=\"entropy_x\", s=1)\n",
    "plt.scatter(steps_list, entropies_y, label=\"entropy_y\", s=1)\n",
    "plt.legend()\n",
    "plt.show()\n",
    "\n",
    "offset_x = np.argmin(entropies_x)\n",
    "offset_y = np.argmin(entropies_y)\n",
    "\n",
    "print(f\"Offset x: {offset_x}, offset y: {offset_y}\")"
   ]
  },
  {
   "cell_type": "code",
   "execution_count": 6,
   "metadata": {},
   "outputs": [
    {
     "name": "stdout",
     "output_type": "stream",
     "text": [
      "Common peaks: {6516}\n",
      "Step match: 6516\n"
     ]
    }
   ],
   "source": [
    "# x peaks at 100*kx + 52 + kx = 52 + 101*kx\n",
    "# y peaks at 27 + 103*ky\n",
    "# common sols if 52 + 101*kx = 27 + 103*ky => 25 = 103*ky - 101*kx\n",
    "# redefine kx = ky + delta\n",
    "# 25 = 2*ky - 101*delta => ky = (25 + 101*delta) / 2\n",
    "# if delta = 1, ky = 63, kx = 64, step = 52 + 101*64 = 6516\n",
    "\n",
    "peaks_x = [n * large_size[0] + offset_x for n in range(1, large_size[1])]\n",
    "peaks_y = [n * large_size[1] + offset_y for n in range(1, large_size[0])]\n",
    "\n",
    "common_peaks = set(peaks_x).intersection(set(peaks_y))\n",
    "print(f\"Common peaks: {common_peaks}\")\n",
    "step_match = min(common_peaks)\n",
    "print(f\"Step match: {step_match}\")"
   ]
  },
  {
   "cell_type": "code",
   "execution_count": 13,
   "metadata": {},
   "outputs": [
    {
     "data": {
      "text/plain": [
       "<matplotlib.image.AxesImage at 0x32a26ce60>"
      ]
     },
     "execution_count": 13,
     "metadata": {},
     "output_type": "execute_result"
    },
    {
     "data": {
      "image/png": "[encoded data removed]",
      "text/plain": [
       "<Figure size 640x480 with 1 Axes>"
      ]
     },
     "metadata": {},
     "output_type": "display_data"
    }
   ],
   "source": [
    "particles = parse_input(input_large)\n",
    "\n",
    "particles_new = move_particles(particles, steps=step_match, size=large_size)\n",
    "grid = to_array(particles_new, large_size)\n",
    "plt.title(f\"Step {step_match}\")\n",
    "plt.imshow(grid.T, cmap=\"gray\")"
   ]
  }
 ],
 "metadata": {
  "kernelspec": {
   "display_name": "base",
   "language": "python",
   "name": "python3"
  },
  "language_info": {
   "codemirror_mode": {
    "name": "ipython",
    "version": 3
   },
   "file_extension": ".py",
   "mimetype": "text/x-python",
   "name": "python",
   "nbconvert_exporter": "python",
   "pygments_lexer": "ipython3",
   "version": "3.12.3"
  }
 },
 "nbformat": 4,
 "nbformat_minor": 2
}
