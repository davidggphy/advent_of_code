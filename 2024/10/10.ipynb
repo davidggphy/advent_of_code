{
 "cells": [
  {
   "cell_type": "code",
   "execution_count": null,
   "metadata": {},
   "outputs": [],
   "source": [
    "def parse_input(fpath):\n",
    "    table = []\n",
    "    trailheads = []\n",
    "    summits = []\n",
    "    with open(fpath) as f:\n",
    "        for i, line in enumerate(f):\n",
    "            row = []\n",
    "            for j, c in enumerate(line.strip()):\n",
    "                row.append(int(c))\n",
    "                if c == \"0\":\n",
    "                    trailheads.append((i, j))\n",
    "                elif c == \"9\":\n",
    "                    summits.append((i, j))\n",
    "            table.append(row)\n",
    "\n",
    "    return table, trailheads, summits\n",
    "\n",
    "\n",
    "def humming_distance(a, b):\n",
    "    return abs(a[0] - b[0]) + abs(a[1] - b[1])\n",
    "\n",
    "\n",
    "def get_trailhead_degree(table, trailhead, summits):\n",
    "    target_summits = [s for s in summits if humming_distance(trailhead, s) <= 9]\n",
    "    reached_summits = []\n",
    "\n",
    "    init_coords = trailhead + (0,)\n",
    "    stack = [init_coords]\n",
    "    while stack:\n",
    "        x, y, height = stack.pop()\n",
    "        if table[x][y] == 9 and (x, y) in target_summits:\n",
    "            # print(f\"Target summits: {target_summits}\")\n",
    "            # print(f\"Reached summit at {x}, {y}\")\n",
    "            reached_summits.append((x, y))\n",
    "            target_summits.remove((x, y))\n",
    "            if not target_summits:\n",
    "                break\n",
    "            continue\n",
    "        for dx, dy in [(1, 0), (-1, 0), (0, 1), (0, -1)]:\n",
    "            nx, ny = x + dx, y + dy\n",
    "            # out of bounds\n",
    "            if nx < 0 or nx >= len(table) or ny < 0 or ny >= len(table[0]):\n",
    "                continue\n",
    "            if table[nx][ny] == height + 1:\n",
    "                # only if you can reach any target summit\n",
    "                for s in target_summits:\n",
    "                    if humming_distance((nx, ny), s) <= 9:\n",
    "                        stack.append((nx, ny, height + 1))\n",
    "                        break\n",
    "    trailhead_degree = len(reached_summits)\n",
    "    return trailhead_degree\n",
    "\n",
    "\n",
    "table, trailheads, summits = parse_input(\"input_small.txt\")\n",
    "total_trailhead_degree = 0\n",
    "for trailhead in trailheads:\n",
    "    td = get_trailhead_degree(table, trailhead, summits)\n",
    "    # print(f\"Trailhead at {trailhead} has degree {td}\")\n",
    "    total_trailhead_degree += td\n",
    "assert total_trailhead_degree == 36"
   ]
  },
  {
   "cell_type": "code",
   "execution_count": 2,
   "metadata": {},
   "outputs": [],
   "source": [
    "table, trailheads, summits = parse_input(\"input.txt\")\n",
    "total_trailhead_degree = 0\n",
    "for trailhead in trailheads:\n",
    "    td = get_trailhead_degree(table, trailhead, summits)\n",
    "    # print(f\"Trailhead at {trailhead} has degree {td}\")\n",
    "    total_trailhead_degree += td\n",
    "assert total_trailhead_degree == 574"
   ]
  },
  {
   "cell_type": "markdown",
   "metadata": {},
   "source": [
    "## part2\n",
    "\n",
    "this time, we don't remove reached summits from the target ones, since we can reach it many times"
   ]
  },
  {
   "cell_type": "code",
   "execution_count": 3,
   "metadata": {},
   "outputs": [],
   "source": [
    "def get_trailhead_rating(table, trailhead, summits):\n",
    "    target_summits = [s for s in summits if humming_distance(trailhead, s) <= 9]\n",
    "    n_reached_summits = 0\n",
    "    # reached_summits = []\n",
    "\n",
    "    init_coords = trailhead + (0,)\n",
    "    stack = [init_coords]\n",
    "    while stack:\n",
    "        x, y, height = stack.pop()\n",
    "        if table[x][y] == 9 and (x, y) in target_summits:\n",
    "            n_reached_summits += 1\n",
    "            # print(f\"Target summits: {target_summits}\")\n",
    "            # print(f\"Reached summit at {x}, {y}\")\n",
    "            # reached_summits.append((x, y))\n",
    "\n",
    "            if not target_summits:\n",
    "                break\n",
    "            continue\n",
    "        for dx, dy in [(1, 0), (-1, 0), (0, 1), (0, -1)]:\n",
    "            nx, ny = x + dx, y + dy\n",
    "            if nx < 0 or nx >= len(table) or ny < 0 or ny >= len(table[0]):\n",
    "                continue\n",
    "            if table[nx][ny] == height + 1:\n",
    "                # only if you can reach any target summit\n",
    "                for s in target_summits:\n",
    "                    if humming_distance((nx, ny), s) <= 9:\n",
    "                        stack.append((nx, ny, height + 1))\n",
    "                        break\n",
    "    # n_reached_summits = len(reached_summits)\n",
    "    return n_reached_summits\n",
    "\n",
    "\n",
    "table, trailheads, summits = parse_input(\"input_small.txt\")\n",
    "total_trailhead_rating = 0\n",
    "for trailhead in trailheads:\n",
    "    tr = get_trailhead_rating(table, trailhead, summits)\n",
    "    # print(f\"Trailhead at {trailhead} has degree {td}\")\n",
    "    total_trailhead_rating += tr\n",
    "assert total_trailhead_rating == 81"
   ]
  },
  {
   "cell_type": "code",
   "execution_count": 4,
   "metadata": {},
   "outputs": [],
   "source": [
    "table, trailheads, summits = parse_input(\"input.txt\")\n",
    "total_trailhead_rating = 0\n",
    "for trailhead in trailheads:\n",
    "    tr = get_trailhead_rating(table, trailhead, summits)\n",
    "    # print(f\"Trailhead at {trailhead} has degree {td}\")\n",
    "    total_trailhead_rating += tr\n",
    "assert total_trailhead_rating == 1238"
   ]
  },
  {
   "cell_type": "markdown",
   "metadata": {},
   "source": [
    "## Part  and 2: Convolutions"
   ]
  },
  {
   "cell_type": "code",
   "execution_count": null,
   "metadata": {},
   "outputs": [
    {
     "name": "stdout",
     "output_type": "stream",
     "text": [
      "1238\n",
      "574\n"
     ]
    }
   ],
   "source": [
    "import numpy as np\n",
    "from scipy.signal import convolve2d\n",
    "\n",
    "H = np.array([[*x.strip()] for x in open(\"input.txt\")])\n",
    "P = H == \"0\"\n",
    "locations = np.argwhere(P)\n",
    "\n",
    "# iterate over locations\n",
    "n_paths = 0\n",
    "n_degree = 0\n",
    "for x, y in locations:\n",
    "    P_ = np.zeros_like(P)\n",
    "    P_[x, y] = 1\n",
    "    for h in \"123456789\":\n",
    "        K = [[0, 1, 0], [1, 0, 1], [0, 1, 0]]\n",
    "        # reached in h steps from starts & height == h\n",
    "        P_ = convolve2d(P_, K, mode=\"same\") * (H == h)\n",
    "    # print(P_.sum())\n",
    "    # reachable\n",
    "    n_paths += P_.sum()\n",
    "    n_degree += len(np.argwhere(P_))\n",
    "\n",
    "\n",
    "# print(P.astype(int))\n",
    "# for h in \"123456789\":\n",
    "#     K = [[0, 1, 0], [1, 0, 1], [0, 1, 0]]\n",
    "#     P = convolve2d(P, K, mode=\"same\") * (H == h)\n",
    "#     print(P)\n",
    "# print(P.sum())\n",
    "\n",
    "print(n_paths)\n",
    "print(n_degree)"
   ]
  },
  {
   "cell_type": "code",
   "execution_count": null,
   "metadata": {},
   "outputs": [
    {
     "name": "stdout",
     "output_type": "stream",
     "text": [
      "1238\n"
     ]
    }
   ],
   "source": [
    "import numpy as np\n",
    "from scipy.signal import convolve2d\n",
    "\n",
    "# only part 2\n",
    "H = np.array([[*x.strip()] for x in open(\"input.txt\")])\n",
    "P = H == \"0\"\n",
    "# print(P.astype(int))\n",
    "for h in \"123456789\":\n",
    "    K = [[0, 1, 0], [1, 0, 1], [0, 1, 0]]\n",
    "    # reached in h steps from starts & height == h\n",
    "    P = convolve2d(P, K, mode=\"same\") * (H == h)\n",
    "    # print(P)\n",
    "print(P.sum())"
   ]
  }
 ],
 "metadata": {
  "kernelspec": {
   "display_name": "base",
   "language": "python",
   "name": "python3"
  },
  "language_info": {
   "codemirror_mode": {
    "name": "ipython",
    "version": 3
   },
   "file_extension": ".py",
   "mimetype": "text/x-python",
   "name": "python",
   "nbconvert_exporter": "python",
   "pygments_lexer": "ipython3",
   "version": "3.12.3"
  }
 },
 "nbformat": 4,
 "nbformat_minor": 2
}
