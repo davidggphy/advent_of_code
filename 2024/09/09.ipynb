{
 "cells": [
  {
   "cell_type": "code",
   "execution_count": 15,
   "metadata": {},
   "outputs": [
    {
     "data": {
      "text/plain": [
       "'2333133121414131402'"
      ]
     },
     "execution_count": 15,
     "metadata": {},
     "output_type": "execute_result"
    }
   ],
   "source": [
    "def read_file(fpath):\n",
    "    with open(fpath, \"r\") as f:\n",
    "        return f.read().strip()\n",
    "\n",
    "\n",
    "code = read_file(\"input_small.txt\")\n",
    "code"
   ]
  },
  {
   "cell_type": "code",
   "execution_count": 16,
   "metadata": {},
   "outputs": [
    {
     "name": "stdout",
     "output_type": "stream",
     "text": [
      "12345\n",
      "2333133121414131402\n"
     ]
    },
    {
     "data": {
      "text/plain": [
       "'00...111...2...333.44.5555.6666.777.88889910..11'"
      ]
     },
     "execution_count": 16,
     "metadata": {},
     "output_type": "execute_result"
    }
   ],
   "source": [
    "def get_long_format(code):\n",
    "    out = \"\"\n",
    "    for i, d in enumerate(code):\n",
    "        if i % 2 == 0:\n",
    "            id_ = i // 2\n",
    "            out += int(d) * str(id_)\n",
    "        else:\n",
    "            out += int(d) * \".\"\n",
    "    return out\n",
    "\n",
    "\n",
    "tests = [\n",
    "    (\"12345\", \"0..111....22222\", \"022111222......\"),\n",
    "    (\n",
    "        \"2333133121414131402\",\n",
    "        \"00...111...2...333.44.5555.6666.777.888899\",\n",
    "        \"0099811188827773336446555566..............\",\n",
    "    ),\n",
    "]\n",
    "\n",
    "for code, expected, _ in tests:\n",
    "    print(code)\n",
    "    computed = get_long_format(code)\n",
    "    assert computed == expected, f\"{computed} != {expected}\"\n",
    "\n",
    "get_long_format(\"23331331214141314020121\")"
   ]
  },
  {
   "cell_type": "code",
   "execution_count": 17,
   "metadata": {},
   "outputs": [],
   "source": [
    "def iterate_over_spaces(code):\n",
    "    for i, d in enumerate(code):\n",
    "        if i % 2 != 0:\n",
    "            for i in range(int(d)):\n",
    "                yield \".\"\n",
    "\n",
    "\n",
    "def iterate_over_digits(code, reverse: bool = False):\n",
    "    if not reverse:\n",
    "        iterable = enumerate(code)\n",
    "    else:\n",
    "        range_ = range(len(code) - 1, -1, -1)\n",
    "        iterable = zip(range_, reversed(code))\n",
    "\n",
    "    for i, d in iterable:\n",
    "        if i % 2 == 0:\n",
    "            id_ = i // 2\n",
    "            for _ in range(int(d)):\n",
    "                if not reverse:\n",
    "                    digits = str(id_)\n",
    "                else:\n",
    "                    digits = reversed(str(id_))\n",
    "                for c in digits:\n",
    "                    yield c\n",
    "\n",
    "\n",
    "def iterate_long_format(code):\n",
    "    for i, d in enumerate(code):\n",
    "        if i % 2 == 0:\n",
    "            id_ = i // 2\n",
    "            for _ in range(int(d)):\n",
    "                for c in str(id_):\n",
    "                    yield c\n",
    "        else:\n",
    "            for _ in range(int(d)):\n",
    "                yield \".\"\n",
    "\n",
    "\n",
    "def test_iterate_over_digits(code):\n",
    "    long_code = get_long_format(code)\n",
    "    long_code_no_spaces = long_code.replace(\".\", \"\")\n",
    "    assert \"\".join([*iterate_over_digits(code)]) == long_code_no_spaces\n",
    "    assert (\n",
    "        \"\".join([*iterate_over_digits(code, reverse=True)]) == long_code_no_spaces[::-1]\n",
    "    )\n",
    "\n",
    "\n",
    "def test_iterate_over_spaces(code):\n",
    "    long_code = get_long_format(code)\n",
    "    n_spaces = long_code.count(\".\")\n",
    "\n",
    "    assert len([*iterate_over_spaces(code)]) == n_spaces\n",
    "\n",
    "\n",
    "def test_iterate_long_format(code):\n",
    "    long_code = get_long_format(code)\n",
    "    assert \"\".join([*iterate_long_format(code)]) == long_code\n",
    "\n",
    "\n",
    "for code in [x[0] for x in tests] + [\n",
    "    read_file(\"input_small.txt\"),\n",
    "    read_file(\"input.txt\"),\n",
    "]:\n",
    "    test_iterate_over_digits(code)\n",
    "    test_iterate_over_spaces(code)\n",
    "    test_iterate_long_format(code)"
   ]
  },
  {
   "cell_type": "code",
   "execution_count": 18,
   "metadata": {},
   "outputs": [
    {
     "name": "stdout",
     "output_type": "stream",
     "text": [
      "0..111....22222\n",
      "011122222\n",
      "......\n"
     ]
    }
   ],
   "source": [
    "print(get_long_format(\"12345\"))\n",
    "print(\"\".join([*iterate_over_digits(\"12345\")]))\n",
    "print(\"\".join([*iterate_over_spaces(\"12345\")]))"
   ]
  },
  {
   "cell_type": "code",
   "execution_count": 19,
   "metadata": {},
   "outputs": [],
   "source": [
    "def build_compressed_code(code):\n",
    "    iter_filesistem = iterate_long_format(code)\n",
    "    iter_last_digit = iterate_over_digits(code, reverse=True)\n",
    "    out = \"\"\n",
    "    n_spaces = 0\n",
    "    for c in iter_filesistem:\n",
    "        if c == \".\":\n",
    "            n_spaces += 1\n",
    "            out += next(iter_last_digit)\n",
    "        else:\n",
    "            out += c\n",
    "    # replace last n_spaces with \".\"\n",
    "    out = out[:-n_spaces] + \".\" * n_spaces\n",
    "    return out\n",
    "\n",
    "\n",
    "for code, _, expected in tests:\n",
    "    assert build_compressed_code(code) == expected"
   ]
  },
  {
   "cell_type": "code",
   "execution_count": 20,
   "metadata": {},
   "outputs": [],
   "source": [
    "def get_checksum(compressed_long_code):\n",
    "    checksum = 0\n",
    "    for i, d in enumerate(compressed_long_code):\n",
    "        if d != \".\":\n",
    "            checksum += int(d) * i\n",
    "    return checksum\n",
    "\n",
    "\n",
    "assert get_checksum(build_compressed_code(tests[1][0])) == 1928"
   ]
  },
  {
   "cell_type": "markdown",
   "metadata": {},
   "source": [
    "## Not working, it must be a list of int\n",
    "\n",
    "The problem is actually simpler, since you don't have to reverse the IDs.\n",
    "It is better to use a list as data structure\n",
    "\n",
    "[id1, id2, id3], where id can be a several digits number"
   ]
  },
  {
   "cell_type": "code",
   "execution_count": 21,
   "metadata": {},
   "outputs": [],
   "source": [
    "from typing import Generator\n",
    "\n",
    "\n",
    "def iterate_long_format_fix(code: str) -> Generator[None | int, None, None]:\n",
    "    for i, d in enumerate(code):\n",
    "        if i % 2 == 0:\n",
    "            id_ = i // 2\n",
    "            for _ in range(int(d)):\n",
    "                yield id_\n",
    "        else:\n",
    "            for _ in range(int(d)):\n",
    "                yield None\n",
    "\n",
    "\n",
    "def iterate_over_digits_fix(\n",
    "    code: str, reverse: bool = False\n",
    ") -> Generator[None | int, None, None]:\n",
    "    if not reverse:\n",
    "        iterable = enumerate(code)\n",
    "    else:\n",
    "        range_ = range(len(code) - 1, -1, -1)\n",
    "        iterable = zip(range_, reversed(code))\n",
    "\n",
    "    for i, d in iterable:\n",
    "        if i % 2 == 0:\n",
    "            id_ = i // 2\n",
    "            for _ in range(int(d)):\n",
    "                yield id_\n",
    "\n",
    "\n",
    "def build_compressed_code_fix(code):\n",
    "    iter_filesistem = iterate_long_format_fix(code)\n",
    "    iter_last_digit = iterate_over_digits_fix(code, reverse=True)\n",
    "    out = []\n",
    "    n_spaces = 0\n",
    "    for c in iter_filesistem:\n",
    "        if c is None:\n",
    "            n_spaces += 1\n",
    "            out.append(next(iter_last_digit))\n",
    "        else:\n",
    "            out.append(c)\n",
    "    # replace last n_spaces entries with None\n",
    "    out = out[:-n_spaces] + [None] * n_spaces\n",
    "    return out\n",
    "\n",
    "\n",
    "def get_checksum_fix(compressed_long_code):\n",
    "    checksum = 0\n",
    "    for i, d in enumerate(compressed_long_code):\n",
    "        if d is not None:\n",
    "            checksum += d * i\n",
    "    return checksum\n",
    "\n",
    "\n",
    "assert get_checksum_fix(build_compressed_code_fix(tests[1][0])) == 1928"
   ]
  },
  {
   "cell_type": "code",
   "execution_count": 22,
   "metadata": {},
   "outputs": [
    {
     "data": {
      "text/plain": [
       "6370402949053"
      ]
     },
     "execution_count": 22,
     "metadata": {},
     "output_type": "execute_result"
    }
   ],
   "source": [
    "code = read_file(\"input.txt\")\n",
    "get_checksum_fix(build_compressed_code_fix(code))\n"
   ]
  },
  {
   "cell_type": "markdown",
   "metadata": {},
   "source": [
    "## Part 2\n",
    "\n",
    "It is possible to do:\n",
    "* 1 loop for parsing data\n",
    "* 1 loop with two pointers to create movements and final code directly\n",
    "\n",
    "\n",
    "instead of \n",
    "* 1 loop for parsing data\n",
    "* 1 loop to create movements \n",
    "* sort of movements\n",
    "* 1 loop to create final code"
   ]
  },
  {
   "cell_type": "code",
   "execution_count": 23,
   "metadata": {},
   "outputs": [],
   "source": [
    "def extract_sizes(code):\n",
    "    id_sizes = []\n",
    "    space_sizes = []\n",
    "    for i, d in enumerate(code):\n",
    "        if i % 2 == 0:\n",
    "            id_sizes.append(int(d))\n",
    "        else:\n",
    "            space_sizes.append(int(d))\n",
    "    return id_sizes, space_sizes\n",
    "\n",
    "\n",
    "def get_index_with_space(space_sizes, size) -> None | int:\n",
    "    \"\"\"\n",
    "    Find the first index in space_sizes that can fit the given size.\n",
    "    \"\"\"\n",
    "    return next((i for i, s in enumerate(space_sizes) if s >= size), None)\n",
    "\n",
    "\n",
    "def get_movements(code):\n",
    "    id_sizes, space_sizes = extract_sizes(code)\n",
    "    max_id = len(id_sizes) - 1\n",
    "    reverse_range = range(max_id, -1, -1)\n",
    "\n",
    "    movements = []\n",
    "    ids_moved = set()\n",
    "    for id_, size in zip(reverse_range, reversed(id_sizes)):\n",
    "        # print(id_, size)\n",
    "        index_fit = get_index_with_space(space_sizes, size)\n",
    "        if index_fit is not None and index_fit < id_:\n",
    "            space_sizes[index_fit] -= size\n",
    "\n",
    "            space_sizes[id_ - 1] += size\n",
    "\n",
    "            movements.append((id_, size, index_fit))\n",
    "\n",
    "            ids_moved.add(id_)\n",
    "    # we need stable sorting by index_fit\n",
    "    movements.sort(key=lambda x: x[2])\n",
    "    return movements, space_sizes, ids_moved, id_sizes\n",
    "\n",
    "\n",
    "def get_final_code(movements, id_sizes, space_sizes, ids_moved):\n",
    "    movements_ = movements.copy()\n",
    "    final_code_extended = []\n",
    "\n",
    "    for id_, (id_size, space_size) in enumerate(zip(id_sizes, space_sizes)):\n",
    "        # First, Add IDs that were not moved\n",
    "        if id_ not in ids_moved:\n",
    "            final_code_extended.extend([id_] * id_size)\n",
    "\n",
    "        # Second, Process movements that landed at current index\n",
    "        removals = []\n",
    "        for j, (id_extra, size_extra, index_extra) in enumerate(movements_):\n",
    "            if index_extra == id_:\n",
    "                final_code_extended.extend([id_extra] * size_extra)\n",
    "                removals.append(j)\n",
    "        for j in removals[::-1]:\n",
    "            movements_.pop(j)\n",
    "\n",
    "        # Third, add remaining spaces\n",
    "        if space_size > 0:\n",
    "            final_code_extended.extend([None] * space_size)\n",
    "\n",
    "    return final_code_extended"
   ]
  },
  {
   "cell_type": "code",
   "execution_count": 24,
   "metadata": {},
   "outputs": [],
   "source": [
    "code = read_file(\"input.txt\")\n",
    "movements, space_sizes, ids_moved, id_sizes = get_movements(code)\n",
    "final_code = get_final_code(movements, id_sizes, space_sizes, ids_moved)\n",
    "assert get_checksum_fix(final_code) == 6398096697992"
   ]
  },
  {
   "cell_type": "markdown",
   "metadata": {},
   "source": [
    "## Other people"
   ]
  },
  {
   "cell_type": "code",
   "execution_count": 35,
   "metadata": {},
   "outputs": [
    {
     "name": "stdout",
     "output_type": "stream",
     "text": [
      "6398096697992\n"
     ]
    }
   ],
   "source": [
    "D = [\n",
    "    (i // 2 + 1 if i % 2 else 0, int(d))\n",
    "    for i, d in enumerate(open(\"input.txt\").read().strip(), 1)\n",
    "]\n",
    "\n",
    "for i in range(len(D))[::-1]:\n",
    "    for j in range(i):\n",
    "        i_data, i_size = D[i]\n",
    "        j_data, j_size = D[j]\n",
    "\n",
    "        if i_data and not j_data and i_size <= j_size:\n",
    "            D[i] = (0, i_size)\n",
    "            D[j] = (0, j_size - i_size)\n",
    "            D.insert(j, (i_data, i_size))\n",
    "\n",
    "\n",
    "flatten = lambda x: [x for x in x for x in x]\n",
    "\n",
    "print(sum(i * (c - 1) for i, c in enumerate(flatten([d] * s for d, s in D)) if c))"
   ]
  },
  {
   "cell_type": "code",
   "execution_count": 32,
   "metadata": {},
   "outputs": [
    {
     "name": "stdout",
     "output_type": "stream",
     "text": [
      "6398096697992\n"
     ]
    }
   ],
   "source": [
    "def aoc09_part1():\n",
    "    line = open(\"input.txt\").read().strip()\n",
    "    disk = sum(\n",
    "        [[-1 if idx % 2 else idx // 2] * int(c) for (idx, c) in enumerate(line)], []\n",
    "    )  # flattened\n",
    "    fill = [x for x in disk[::-1] if x >= 0]\n",
    "    print(\n",
    "        sum(\n",
    "            i * v if v >= 0 else i * fill.pop(0)\n",
    "            for (i, v) in enumerate(disk[: len(fill)])\n",
    "        )\n",
    "    )\n",
    "\n",
    "\n",
    "def aoc09_part2():\n",
    "    line = open(\"input.txt\").read().strip()\n",
    "    # part 2\n",
    "    L = [[], []]\n",
    "    pos = 0\n",
    "    for idx, length in enumerate(map(int, line)):\n",
    "        L[idx % 2].append((pos, length))  # L[0]: data, L[1]: free space\n",
    "        pos += length\n",
    "    for i, (dpos, dlen) in list(enumerate(L[0]))[::-1]:  # look at data starting right\n",
    "        for j, (spos, slen) in enumerate(L[1]):  # look at free space starting left\n",
    "            if spos < dpos and slen >= dlen:  # can move data to free space\n",
    "                L[0][i] = (spos, dlen)\n",
    "                L[1][j] = (\n",
    "                    spos + dlen,\n",
    "                    slen - dlen,\n",
    "                )  # may create 0-length free space block, but that's ok\n",
    "                break\n",
    "    print(\n",
    "        sum(v * dlen * (2 * dpos + dlen - 1) for v, (dpos, dlen) in enumerate(L[0]))\n",
    "        // 2\n",
    "    )  # look at my fancy math\n",
    "\n",
    "\n",
    "aoc09_part2()"
   ]
  }
 ],
 "metadata": {
  "kernelspec": {
   "display_name": "base",
   "language": "python",
   "name": "python3"
  },
  "language_info": {
   "codemirror_mode": {
    "name": "ipython",
    "version": 3
   },
   "file_extension": ".py",
   "mimetype": "text/x-python",
   "name": "python",
   "nbconvert_exporter": "python",
   "pygments_lexer": "ipython3",
   "version": "3.12.3"
  }
 },
 "nbformat": 4,
 "nbformat_minor": 2
}
