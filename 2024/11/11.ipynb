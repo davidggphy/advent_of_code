{
 "cells": [
  {
   "cell_type": "code",
   "execution_count": 1,
   "metadata": {},
   "outputs": [],
   "source": [
    "def read_stones(fpath):\n",
    "    with open(fpath, \"r\") as f:\n",
    "        stones = [int(x) for x in f.read().split()]\n",
    "    return stones\n",
    "\n",
    "\n",
    "read_stones(\"input.txt\")\n",
    "stones_small = [125, 17]\n",
    "stones_small_6 = (\n",
    "    \"2097446912 14168 4048 2 0 2 4 40 48 2024 40 48 80 96 2 8 6 7 6 0 3 2\".split()\n",
    ")\n",
    "stones_small_6 = [int(x) for x in stones_small_6]"
   ]
  },
  {
   "cell_type": "code",
   "execution_count": null,
   "metadata": {},
   "outputs": [
    {
     "data": {
      "text/plain": [
       "True"
      ]
     },
     "execution_count": 2,
     "metadata": {},
     "output_type": "execute_result"
    }
   ],
   "source": [
    "# add a cache\n",
    "from functools import lru_cache\n",
    "\n",
    "\n",
    "@lru_cache(maxsize=None)\n",
    "def step(n):\n",
    "    \"\"\"\n",
    "    If the stone is engraved with the number 0,\n",
    "    it is replaced by a stone engraved with the number 1.\n",
    "    If the stone is engraved with a number that has an even number of digits,\n",
    "    it is replaced by two stones. The left half of the digits are engraved on the new left stone, and the right half of the digits are engraved on the new right stone. (The new numbers don't keep extra leading zeroes: 1000 would become stones 10 and 0.)\n",
    "    If none of the other rules apply, the stone is replaced by a new stone;\n",
    "    the old stone's number multiplied by 2024 is engraved on the new stone.\"\"\"\n",
    "    if n == 0:\n",
    "        return [1]\n",
    "    elif len(str(n)) % 2 == 0:\n",
    "        n = str(n)\n",
    "        mid = len(n) // 2\n",
    "        return [int(n[:mid]), int(n[mid:])]\n",
    "    else:\n",
    "        return [n * 2024]\n",
    "\n",
    "\n",
    "def evolve(stones, steps):\n",
    "    for _ in range(steps):\n",
    "        new_stones = []\n",
    "        for stone in stones:\n",
    "            new_stones.extend(step(stone))\n",
    "        stones = new_stones\n",
    "    return stones\n",
    "\n",
    "\n",
    "evolve(stones_small, 6) == stones_small_6"
   ]
  },
  {
   "cell_type": "code",
   "execution_count": 19,
   "metadata": {},
   "outputs": [
    {
     "data": {
      "text/plain": [
       "True"
      ]
     },
     "execution_count": 19,
     "metadata": {},
     "output_type": "execute_result"
    }
   ],
   "source": [
    "len(evolve(read_stones(\"input.txt\"), 25)) == 203457"
   ]
  },
  {
   "cell_type": "markdown",
   "metadata": {},
   "source": [
    "## Part 2"
   ]
  },
  {
   "cell_type": "code",
   "execution_count": null,
   "metadata": {},
   "outputs": [
    {
     "data": {
      "text/plain": [
       "True"
      ]
     },
     "execution_count": 20,
     "metadata": {},
     "output_type": "execute_result"
    }
   ],
   "source": [
    "from functools import lru_cache\n",
    "\n",
    "\n",
    "@lru_cache(maxsize=None)\n",
    "def count_blocks(n, steps):\n",
    "    if steps == 0:\n",
    "        return 1\n",
    "    if n == 0:\n",
    "        return count_blocks(1, steps - 1)\n",
    "    elif len(str(n)) % 2 == 0:\n",
    "        n = str(n)\n",
    "        mid = len(n) // 2\n",
    "        return count_blocks(int(n[:mid]), steps - 1) + count_blocks(\n",
    "            int(n[mid:]), steps - 1\n",
    "        )\n",
    "    else:\n",
    "        return count_blocks(n * 2024, steps - 1)\n",
    "\n",
    "\n",
    "def count_all_blocks(stones, steps):\n",
    "    all_blocks = 0\n",
    "    for block in stones:\n",
    "        all_blocks += count_blocks(block, steps)\n",
    "    return all_blocks\n",
    "\n",
    "\n",
    "count_all_blocks(read_stones(\"input.txt\"), 25) == 203457"
   ]
  },
  {
   "cell_type": "code",
   "execution_count": 22,
   "metadata": {},
   "outputs": [
    {
     "data": {
      "text/plain": [
       "241394363462435"
      ]
     },
     "execution_count": 22,
     "metadata": {},
     "output_type": "execute_result"
    }
   ],
   "source": [
    "count_all_blocks(read_stones(\"input.txt\"), 75)"
   ]
  }
 ],
 "metadata": {
  "kernelspec": {
   "display_name": "base",
   "language": "python",
   "name": "python3"
  },
  "language_info": {
   "codemirror_mode": {
    "name": "ipython",
    "version": 3
   },
   "file_extension": ".py",
   "mimetype": "text/x-python",
   "name": "python",
   "nbconvert_exporter": "python",
   "pygments_lexer": "ipython3",
   "version": "3.12.3"
  }
 },
 "nbformat": 4,
 "nbformat_minor": 2
}
